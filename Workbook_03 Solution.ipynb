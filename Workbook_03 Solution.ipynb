{
 "cells": [
  {
   "cell_type": "code",
   "execution_count": 1,
   "id": "94c507ca-e1ae-4b6a-a25d-dffdbabf21ff",
   "metadata": {},
   "outputs": [],
   "source": [
    "from sympy.physics.continuum_mechanics.beam import Beam\n",
    "from sympy import symbols"
   ]
  },
  {
   "cell_type": "markdown",
   "id": "b8aa2a50-0305-43f4-8975-e801da177b54",
   "metadata": {},
   "source": [
    "# Workbook 03"
   ]
  },
  {
   "cell_type": "markdown",
   "id": "4781b3f1-44ac-4f57-a827-2f800c6dd72f",
   "metadata": {},
   "source": [
    "# Task A\n",
    "\n",
    "1. Use the \"file opening template\" to open \"beam_1.txt\" with the `.read()` method and assign the file data to a variable `beam_data`\n",
    "2. Turn the file data into a list of lines using `.split()`\n",
    "3. Loop through each of the lines in the file and print them to the notebook"
   ]
  },
  {
   "cell_type": "markdown",
   "id": "8aaeb2de-a1d6-41c1-98c9-a3968d09a080",
   "metadata": {},
   "source": [
    "## Task A response"
   ]
  },
  {
   "cell_type": "code",
   "execution_count": 2,
   "id": "23fac378-9e47-4a1e-99d6-ab90d55b4242",
   "metadata": {},
   "outputs": [
    {
     "name": "stdout",
     "output_type": "stream",
     "text": [
      "4800, 19200, 1000000\n",
      "0, 3000\n",
      "100, 2000, 0\n"
     ]
    }
   ],
   "source": [
    "with open(\"beam_1.txt\", 'r') as file:\n",
    "    beam_data = file.read()\n",
    "    \n",
    "beam_lines = beam_data.split(\"\\n\")\n",
    "\n",
    "for line in beam_lines:\n",
    "    print(line)"
   ]
  },
  {
   "cell_type": "markdown",
   "id": "29fe385d-1c60-45fe-9dbb-09f74ec22913",
   "metadata": {},
   "source": [
    "# Task B"
   ]
  },
  {
   "cell_type": "code",
   "execution_count": 4,
   "id": "a8702834-7158-477f-aa12-d2c8b2d33f2d",
   "metadata": {},
   "outputs": [],
   "source": [
    "lines = [\n",
    "    \"4800, 19200, 1000000\",\n",
    "    \"0, 3000\",\n",
    "    \"100, 500, 0\",\n",
    "    \"200, 3600, 0\",\n",
    "]"
   ]
  },
  {
   "cell_type": "markdown",
   "id": "b1329923-5ff7-412f-9a0e-f836c332376b",
   "metadata": {},
   "source": [
    "1. Use the \"transforming\" recipe to loop through all of the numbers in just the first line of `lines` (remember, you will need to split the line up first). Convert each number string into an `int` and save each in your accumulator.\n",
    "2. Do the same thing with the second line, the beam support locations.\n",
    "3. Now, use the \"double loop\" recipe to loop through 1) the lines of the loads, then 2) the items in each line (see Lesson 02 reference if you need a refresher on how to slice a list to start at the third line and go to the end). Convert each load parameter into an `int` and accumulate it into a list of lists of ints.\n",
    "4. Print the results of each accumulator to the notebook so you can see if it was successful or not."
   ]
  },
  {
   "cell_type": "markdown",
   "id": "a5c8aeeb-73de-487b-9bf9-1c630a6e6bde",
   "metadata": {},
   "source": [
    "## Task B response"
   ]
  },
  {
   "cell_type": "code",
   "execution_count": 5,
   "id": "bfd65087-3a5f-40b3-950c-5efbe68cde39",
   "metadata": {},
   "outputs": [
    {
     "name": "stdout",
     "output_type": "stream",
     "text": [
      "[4800, 19200, 1000000]\n",
      "[0, 3000]\n",
      "[[100, 500, 0], [200, 3600, 0]]\n"
     ]
    }
   ],
   "source": [
    "l_e_i = []\n",
    "for item in lines[0].split(\", \"):\n",
    "    l_e_i.append(int(item))\n",
    "    \n",
    "supports = []\n",
    "for support in lines[1].split(\", \"):\n",
    "    supports.append(int(support))\n",
    "    \n",
    "outer_acc = []\n",
    "for load_line in lines[2:]:\n",
    "    inner_acc = []\n",
    "    for param in load_line.split(\", \"):\n",
    "        inner_acc.append(int(param))\n",
    "    outer_acc.append(inner_acc)\n",
    "    \n",
    "print(l_e_i)\n",
    "print(supports)\n",
    "print(outer_acc)"
   ]
  },
  {
   "cell_type": "markdown",
   "id": "ff997918-8ae3-4c49-b3ca-fb31d7509d5f",
   "metadata": {},
   "source": [
    "# Task C"
   ]
  },
  {
   "cell_type": "code",
   "execution_count": 6,
   "id": "126454e1-692d-4b7b-aebb-0bfeac80d904",
   "metadata": {},
   "outputs": [],
   "source": [
    "L_E_I = [4800, 19200, 80000]\n",
    "supports = [0, 2000, 4800]\n",
    "loads = [\n",
    "    [100, 500, 0],\n",
    "    [200, 3600, 0],\n",
    "]"
   ]
  },
  {
   "cell_type": "markdown",
   "id": "87603a8c-6ecc-4173-975e-0e86fe708eaf",
   "metadata": {},
   "source": [
    "Using the extracted data above (`L_E_I`, `supports`, `loads`), perform the following:\n",
    "\n",
    "_Hint_: Use the \"unpacking\" syntax to turn the elements of the list into the arguments of the `Beam` (see Lesson 03 Reference).\n",
    "\n",
    "1. Create a new `Beam` object with the elements of `L_E_I`\n",
    "2. Using the \"transforming\" recipe, loop through `loads` and add each load to the beam with `.apply_load()`.\n",
    "3. Using the \"enumeration\" recipe, loop through `supports` and perform all of the steps required to add the supports to the beam:\n",
    "    1. Create a sympy symbol to represent each reaction. Use the enumerator to create symbols that look like this, `\"R0\"`, `\"R1\"`, `\"R2\"`, etc.\n",
    "    2. Add the reaction symbol to your accumulator\n",
    "    3. Use `.apply_load()` to add the symbol and support location as a point load support\n",
    "    4. The beam object has an _attribute_ that we have been using called `.bc_deflection`. This attribtue is an empty list until we put things into it. We can `.append()` to it just like an accumulator. Create the boundary condition as a tuple (like a list but with parentheses) with the support location and `0` to indicate no deflection.\n",
    "    5. After the loop, call `.solve_for_reaction_loads()` with the reaction symbols in your accumulator passed as the arguments.\n",
    "    "
   ]
  },
  {
   "cell_type": "markdown",
   "id": "567ad8e7-f28b-4820-8e80-ca4ac1a24b3d",
   "metadata": {},
   "source": [
    "## Task C response"
   ]
  },
  {
   "cell_type": "code",
   "execution_count": 7,
   "id": "1e434b73-20d6-405b-b90b-85108221890b",
   "metadata": {},
   "outputs": [
    {
     "name": "stdout",
     "output_type": "stream",
     "text": [
      "{R0: 1505375/2688, R1: -599865375/1568, R2: -5418873125/18816}\n"
     ]
    },
    {
     "data": {
      "image/png": "[encoded data removed]",
      "text/plain": [
       "<Figure size 432x288 with 1 Axes>"
      ]
     },
     "metadata": {
      "needs_background": "light"
     },
     "output_type": "display_data"
    },
    {
     "data": {
      "image/png": "[encoded data removed]",
      "text/plain": [
       "<Figure size 432x288 with 1 Axes>"
      ]
     },
     "metadata": {
      "needs_background": "light"
     },
     "output_type": "display_data"
    },
    {
     "data": {
      "text/plain": [
       "<sympy.plotting.plot.Plot at 0x22874f97100>"
      ]
     },
     "execution_count": 7,
     "metadata": {},
     "output_type": "execute_result"
    }
   ],
   "source": [
    "beam_1 = Beam(*L_E_I)\n",
    "reactions = []\n",
    "for idx, support in enumerate(supports):\n",
    "    R = symbols(f\"R{idx}\")\n",
    "    beam_1.apply_load(R, support, -1)\n",
    "    beam_1.bc_deflection.append((support, 0))\n",
    "    reactions.append(R)\n",
    "    \n",
    "for load in loads:\n",
    "    beam_1.apply_load(*load)\n",
    "    \n",
    "beam_1.solve_for_reaction_loads(*reactions)\n",
    "print(beam_1.reaction_loads)\n",
    "beam_1.plot_shear_force()\n",
    "beam_1.plot_bending_moment()"
   ]
  },
  {
   "cell_type": "code",
   "execution_count": null,
   "id": "5aefa319-a6b5-419c-8c31-a3b99efd2871",
   "metadata": {},
   "outputs": [],
   "source": []
  },
  {
   "cell_type": "markdown",
   "id": "03611f23-d1ba-4a71-832a-59b616c82a19",
   "metadata": {},
   "source": [
    "# Beam Analysis: Beam File Reader Script\n",
    "\n",
    "Using the steps that you have practiced in **Task A**, **Task B**, and **Task C**, write a new script to read a beam file, transforms the string data into integers, and accumulates them into lists similar to those seen in **Task C**. Input the data accumulated into the lists into a new beam object. Solve for the reaction loads, print the reaction loads, and plot the shear, moment, and deflection diagrams."
   ]
  },
  {
   "cell_type": "markdown",
   "id": "7110dcd6-036f-4fa5-873c-f659e6aed06b",
   "metadata": {},
   "source": [
    "## Task D response"
   ]
  },
  {
   "cell_type": "code",
   "execution_count": 8,
   "id": "b163bf78-285d-44d0-b0ad-6a4e4df37076",
   "metadata": {},
   "outputs": [
    {
     "name": "stdout",
     "output_type": "stream",
     "text": [
      "{R0: -609981625/10138, R1: -4620575/296, R2: -41891425/1096}\n"
     ]
    },
    {
     "data": {
      "image/png": "[encoded data removed]",
      "text/plain": [
       "<Figure size 432x288 with 1 Axes>"
      ]
     },
     "metadata": {
      "needs_background": "light"
     },
     "output_type": "display_data"
    },
    {
     "data": {
      "image/png": "[encoded data removed]",
      "text/plain": [
       "<Figure size 432x288 with 1 Axes>"
      ]
     },
     "metadata": {
      "needs_background": "light"
     },
     "output_type": "display_data"
    },
    {
     "data": {
      "text/plain": [
       "<sympy.plotting.plot.Plot at 0x22874f86670>"
      ]
     },
     "execution_count": 8,
     "metadata": {},
     "output_type": "execute_result"
    }
   ],
   "source": [
    "file_name = 'beam_2.txt'\n",
    "\n",
    "with open(file_name, 'r') as file:\n",
    "    b1_data = file.read()\n",
    "\n",
    "b1_lines = b1_data.split(\"\\n\")\n",
    "\n",
    "l_e_i = []\n",
    "for item in b1_lines[0].split(\", \"):\n",
    "    l_e_i.append(int(item))\n",
    "    \n",
    "supports = []\n",
    "for item in b1_lines[1].split(\", \"):\n",
    "    supports.append(int(item))\n",
    "    \n",
    "loads = []\n",
    "for load in b1_lines[2:]:\n",
    "    load_acc = []\n",
    "    for load_param in load.split(\", \"):\n",
    "        load_acc.append(int(load_param))\n",
    "    loads.append(load_acc)\n",
    "    \n",
    "beam = Beam(*l_e_i)\n",
    "\n",
    "for load in loads:\n",
    "    beam.apply_load(*load)\n",
    "    \n",
    "reactions = []\n",
    "for idx, support in enumerate(supports):\n",
    "    R = symbols(f\"R{idx}\")\n",
    "    reactions.append(R)\n",
    "    beam.apply_load(R, support, -1)\n",
    "    beam.bc_deflection.append((support, 0))\n",
    "    \n",
    "beam.solve_for_reaction_loads(*reactions)\n",
    "print(beam.reaction_loads)\n",
    "beam.plot_shear_force()\n",
    "beam.plot_bending_moment()"
   ]
  },
  {
   "cell_type": "markdown",
   "id": "6d52626f-fc63-4d39-b341-8dd8bb51dd5c",
   "metadata": {},
   "source": [
    "# Task E\n",
    "\n",
    "1. Create a new variable at the top of your **Task D** script called `file_name` that holds the string of the file name to analyze. Replace your `with open()...` line so that it opens the variable, `file_name` instead.\n",
    "2. Change out the file names with `beam_1.txt`, `beam_2.txt`, and `beam_3.txt` to see the analysis results change.\n",
    "4. Rename your **Task D** to **Beam Analysis: Beam File Reader Script**\n",
    "3. Create a new `beam_4.txt` file and put in all new values representing a new beam to analyze. Note that you have to include values for `E` and `I` in the file format for your script to read it properly. What happens if you don't include `E` and `I` in the first line of the file? Try writing some more files and running them! Did any of your experiments \"break\" your script or cause an error? If so, why do you think that is?\n",
    "4. You have now written a script that will read in a series of beam parameters from a text file, solve the beam, and plot the results. However, this script has some limitations, including:\n",
    "    1. It can only read one beam per file\n",
    "    2. It can only handle point load reactions\n",
    "    3. It can only handle deflection boundary conditions\n",
    "    \n",
    "Do you have any ideas on what we would need to do in order for it to be able to read multiple beams in one file with any kind of support conditions?\n",
    "\n",
    "That will be what we work on next week!"
   ]
  }
 ],
 "metadata": {
  "kernelspec": {
   "display_name": "Python 3 (ipykernel)",
   "language": "python",
   "name": "python3"
  },
  "language_info": {
   "codemirror_mode": {
    "name": "ipython",
    "version": 3
   },
   "file_extension": ".py",
   "mimetype": "text/x-python",
   "name": "python",
   "nbconvert_exporter": "python",
   "pygments_lexer": "ipython3",
   "version": "3.9.7"
  }
 },
 "nbformat": 4,
 "nbformat_minor": 5
}
